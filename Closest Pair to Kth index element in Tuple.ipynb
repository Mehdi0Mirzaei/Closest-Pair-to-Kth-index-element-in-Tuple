{
 "cells": [
  {
   "cell_type": "code",
   "execution_count": 1,
   "id": "10f07844",
   "metadata": {},
   "outputs": [
    {
     "name": "stdout",
     "output_type": "stream",
     "text": [
      "The original list is : [(3, 4), (78, 76), (2, 3), (9, 8), (19, 23)]\n",
      "The nearest tuple to Kth index element is : (19, 23)\n"
     ]
    }
   ],
   "source": [
    "# initializing list\n",
    "test_list = [(3, 4), (78, 76), (2, 3), (9, 8), (19, 23)]\n",
    " \n",
    "# printing original list\n",
    "print(\"The original list is : \" + str(test_list))\n",
    " \n",
    "# initializing tuple\n",
    "tup = (17, 23)\n",
    " \n",
    "# initializing K \n",
    "K = 1\n",
    " \n",
    "# Closest Pair to Kth index element in Tuple\n",
    "# Using enumerate() + loop\n",
    "min_dif, res = 999999999, None\n",
    "for idx, val in enumerate(test_list):\n",
    "    dif = abs(tup[K - 1] - val[K - 1])\n",
    "    if dif < min_dif:\n",
    "        min_dif, res = dif, idx\n",
    " # printing result \n",
    "print(\"The nearest tuple to Kth index element is : \" + str(test_list[res]))"
   ]
  },
  {
   "cell_type": "code",
   "execution_count": 2,
   "id": "f4f06a67",
   "metadata": {},
   "outputs": [
    {
     "name": "stdout",
     "output_type": "stream",
     "text": [
      "The original list is : [(3, 4), (78, 76), (2, 3), (9, 8), (19, 23)]\n",
      "The nearest tuple to Kth index element is : (19, 23)\n"
     ]
    }
   ],
   "source": [
    "# initializing list\n",
    "test_list = [(3, 4), (78, 76), (2, 3), (9, 8), (19, 23)]\n",
    " \n",
    "# printing original list\n",
    "print(\"The original list is : \" + str(test_list))\n",
    " \n",
    "# initializing tuple\n",
    "tup = (17, 23)\n",
    " \n",
    "# initializing K \n",
    "K = 1\n",
    " \n",
    "# Closest Pair to Kth index element in Tuple\n",
    "# Using min() + lambda\n",
    "res = min(range(len(test_list)), key = lambda sub: abs(test_list[sub][K - 1] - tup[K - 1]))\n",
    " \n",
    "# printing result \n",
    "print(\"The nearest tuple to Kth index element is : \" + str(test_list[res]))"
   ]
  },
  {
   "cell_type": "code",
   "execution_count": 3,
   "id": "8d055cba",
   "metadata": {},
   "outputs": [
    {
     "name": "stdout",
     "output_type": "stream",
     "text": [
      "The nearest tuple to Kth index element is : (19, 23)\n"
     ]
    }
   ],
   "source": [
    "# initializing list\n",
    "test_list = [(3, 4), (78, 76), (2, 3), (9, 8), (19, 23)]\n",
    " \n",
    "# initializing tuple\n",
    "tup = (17, 23)\n",
    " \n",
    "# initializing K\n",
    "K = 1\n",
    " \n",
    "# Using a lambda function and the min() function\n",
    "res = min(test_list, key=lambda x: abs(x[K-1] - tup[K-1]))\n",
    " \n",
    "# printing result\n",
    "print(\"The nearest tuple to Kth index element is : \" + str(res))"
   ]
  },
  {
   "cell_type": "code",
   "execution_count": 4,
   "id": "62ac47ba",
   "metadata": {},
   "outputs": [
    {
     "name": "stdout",
     "output_type": "stream",
     "text": [
      "The nearest tuple to Kth index element is : (19, 23)\n"
     ]
    }
   ],
   "source": [
    "import heapq\n",
    " \n",
    "# initializing the list of tuples\n",
    "test_list = [(3, 4), (78, 76), (2, 3), (9, 8), (19, 23)]\n",
    " \n",
    "# initializing the target tuple\n",
    "tup = (17, 23)\n",
    " \n",
    "# initializing the index of the element to compare in each tuple\n",
    "K = 1\n",
    " \n",
    "# using the heapq.nsmallest() function to get the tuple with the smallest difference between the Kth element and the corresponding element in the target tuple\n",
    "res = heapq.nsmallest(1, test_list, key=lambda x: abs(x[K-1] - tup[K-1]))[0]\n",
    " \n",
    "# printing the result\n",
    "print(\"The nearest tuple to Kth index element is : \" + str(res))"
   ]
  },
  {
   "cell_type": "code",
   "execution_count": 5,
   "id": "2baeffc9",
   "metadata": {},
   "outputs": [
    {
     "name": "stdout",
     "output_type": "stream",
     "text": [
      "The nearest tuple to Kth index element is : (19, 23)\n"
     ]
    }
   ],
   "source": [
    "# initializing the list of tuples\n",
    "test_list = [(3, 4), (78, 76), (2, 3), (9, 8), (19, 23)]\n",
    " \n",
    "# initializing the target tuple\n",
    "tup = (17, 23)\n",
    " \n",
    "# initializing the index of the element to compare in each tuple\n",
    "K = 1\n",
    " \n",
    "# define a custom key function\n",
    "def key_func(t):\n",
    "    return abs(t[K-1] - tup[K-1])\n",
    " \n",
    "# use the sorted() function to sort the list of tuples based on the custom key function\n",
    "sorted_list = sorted(test_list, key=key_func)\n",
    " \n",
    "# retrieve the first tuple from the sorted list\n",
    "res = sorted_list[0]\n",
    " \n",
    "# print the result\n",
    "print(\"The nearest tuple to Kth index element is : \" + str(res))"
   ]
  },
  {
   "cell_type": "code",
   "execution_count": null,
   "id": "2047141d",
   "metadata": {},
   "outputs": [],
   "source": []
  }
 ],
 "metadata": {
  "kernelspec": {
   "display_name": "Python 3 (ipykernel)",
   "language": "python",
   "name": "python3"
  },
  "language_info": {
   "codemirror_mode": {
    "name": "ipython",
    "version": 3
   },
   "file_extension": ".py",
   "mimetype": "text/x-python",
   "name": "python",
   "nbconvert_exporter": "python",
   "pygments_lexer": "ipython3",
   "version": "3.9.13"
  }
 },
 "nbformat": 4,
 "nbformat_minor": 5
}
